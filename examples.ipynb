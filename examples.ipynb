{
 "cells": [
  {
   "cell_type": "code",
   "execution_count": 1,
   "metadata": {},
   "outputs": [],
   "source": [
    "import numpy as np"
   ]
  },
  {
   "cell_type": "code",
   "execution_count": 2,
   "metadata": {},
   "outputs": [],
   "source": [
    "arr = np.array([\n",
    "    [7, 3, 4],\n",
    "    [9, 8, 10],\n",
    "    [15, 18, 1]\n",
    "])"
   ]
  },
  {
   "cell_type": "code",
   "execution_count": 3,
   "metadata": {},
   "outputs": [
    {
     "name": "stdout",
     "output_type": "stream",
     "text": [
      "[[ 63.43494882  78.69006753  80.53767779]\n",
      " [ 75.96375653  82.40535663 -56.30993247]\n",
      " [ 80.53767779  84.28940686 -83.65980825]]\n"
     ]
    },
    {
     "data": {
      "text/plain": [
       "np.float64(80.0)"
      ]
     },
     "execution_count": 3,
     "metadata": {},
     "output_type": "execute_result"
    }
   ],
   "source": [
    "grad_x = np.gradient(arr, axis=1)\n",
    "grad_y = np.gradient(arr, axis=0)\n",
    "\n",
    "magnitude = np.sqrt(grad_x**2, grad_y**2)\n",
    "directions = np.arctan(grad_y, grad_x) * (180 / np.pi)\n",
    "\n",
    "\n",
    "print(directions)\n",
    "\n",
    "hist, _ = np.histogram(directions, range=(0,180), weights=magnitude)\n",
    "\n",
    "hist.argmax() * (180 / 9)\n"
   ]
  },
  {
   "cell_type": "code",
   "execution_count": 4,
   "metadata": {},
   "outputs": [],
   "source": [
    "arr = np.array([\n",
    "    [4, 10, 1],\n",
    "    [3, 8, 18],\n",
    "    [7, 9, 15]\n",
    "    \n",
    "])"
   ]
  },
  {
   "cell_type": "code",
   "execution_count": 5,
   "metadata": {},
   "outputs": [
    {
     "name": "stdout",
     "output_type": "stream",
     "text": [
      "[[-45.         -63.43494882  86.63353934]\n",
      " [ 56.30993247 -26.56505118  81.86989765]\n",
      " [ 75.96375653  45.         -71.56505118]]\n"
     ]
    },
    {
     "data": {
      "text/plain": [
       "np.float64(80.0)"
      ]
     },
     "execution_count": 5,
     "metadata": {},
     "output_type": "execute_result"
    }
   ],
   "source": [
    "grad_x = np.gradient(arr, axis=1)\n",
    "grad_y = np.gradient(arr, axis=0)\n",
    "\n",
    "magnitude = np.sqrt(grad_x**2, grad_y**2)\n",
    "directions = np.arctan(grad_y, grad_x) * (180 / np.pi)\n",
    "\n",
    "\n",
    "print(directions)\n",
    "\n",
    "hist, _ = np.histogram(directions, range=(0,180), weights=magnitude)\n",
    "\n",
    "hist.argmax() * (180 / 9)"
   ]
  },
  {
   "cell_type": "code",
   "execution_count": 6,
   "metadata": {},
   "outputs": [],
   "source": [
    "arr = np.array([\n",
    "    [15, 9, 7],\n",
    "    [18, 8, 3],\n",
    "    [1, 10, 4]\n",
    "])"
   ]
  },
  {
   "cell_type": "code",
   "execution_count": 7,
   "metadata": {},
   "outputs": [
    {
     "name": "stdout",
     "output_type": "stream",
     "text": [
      "[[ 71.56505118 -45.         -75.96375653]\n",
      " [-81.86989765  26.56505118 -56.30993247]\n",
      " [-86.63353934  63.43494882  45.        ]]\n"
     ]
    },
    {
     "data": {
      "text/plain": [
       "np.float64(20.0)"
      ]
     },
     "execution_count": 7,
     "metadata": {},
     "output_type": "execute_result"
    }
   ],
   "source": [
    "grad_x = np.gradient(arr, axis=1)\n",
    "grad_y = np.gradient(arr, axis=0)\n",
    "\n",
    "magnitude = np.sqrt(grad_x**2, grad_y**2)\n",
    "directions = np.arctan(grad_y, grad_x) * (180 / np.pi)\n",
    "\n",
    "\n",
    "print(directions)\n",
    "\n",
    "hist, _ = np.histogram(directions, range=(0,180), weights=magnitude)\n",
    "\n",
    "hist.argmax() * (180 / 9)"
   ]
  },
  {
   "cell_type": "code",
   "execution_count": null,
   "metadata": {},
   "outputs": [],
   "source": []
  }
 ],
 "metadata": {
  "kernelspec": {
   "display_name": "csc481_env",
   "language": "python",
   "name": "python3"
  },
  "language_info": {
   "codemirror_mode": {
    "name": "ipython",
    "version": 3
   },
   "file_extension": ".py",
   "mimetype": "text/x-python",
   "name": "python",
   "nbconvert_exporter": "python",
   "pygments_lexer": "ipython3",
   "version": "3.11.5"
  }
 },
 "nbformat": 4,
 "nbformat_minor": 2
}
